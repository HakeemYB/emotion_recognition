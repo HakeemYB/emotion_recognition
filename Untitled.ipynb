{
 "cells": [
  {
   "cell_type": "code",
   "execution_count": 9,
   "id": "d4181cdf-3a12-4979-9353-a376d24b226b",
   "metadata": {},
   "outputs": [
    {
     "name": "stdout",
     "output_type": "stream",
     "text": [
      "Untitled.ipynb\tgoogle-drive-ocamlfuse\tmy_drive\n"
     ]
    }
   ],
   "source": [
    "!ls"
   ]
  },
  {
   "cell_type": "code",
   "execution_count": 11,
   "id": "24a69e47-5bc7-417e-b643-ee4a4295b31a",
   "metadata": {},
   "outputs": [
    {
     "name": "stdout",
     "output_type": "stream",
     "text": [
      "Collecting gdown\n",
      "  Downloading gdown-4.7.1-py3-none-any.whl (15 kB)\n",
      "Requirement already satisfied: filelock in /opt/conda/lib/python3.10/site-packages (from gdown) (3.12.2)\n",
      "Requirement already satisfied: requests[socks] in /opt/conda/lib/python3.10/site-packages (from gdown) (2.31.0)\n",
      "Requirement already satisfied: six in /opt/conda/lib/python3.10/site-packages (from gdown) (1.16.0)\n",
      "Requirement already satisfied: tqdm in /opt/conda/lib/python3.10/site-packages (from gdown) (4.65.0)\n",
      "Requirement already satisfied: beautifulsoup4 in /opt/conda/lib/python3.10/site-packages (from gdown) (4.12.2)\n",
      "Requirement already satisfied: soupsieve>1.2 in /opt/conda/lib/python3.10/site-packages (from beautifulsoup4->gdown) (2.3.2.post1)\n",
      "Requirement already satisfied: charset-normalizer<4,>=2 in /opt/conda/lib/python3.10/site-packages (from requests[socks]->gdown) (3.2.0)\n",
      "Requirement already satisfied: idna<4,>=2.5 in /opt/conda/lib/python3.10/site-packages (from requests[socks]->gdown) (3.4)\n",
      "Requirement already satisfied: urllib3<3,>=1.21.1 in /opt/conda/lib/python3.10/site-packages (from requests[socks]->gdown) (1.26.16)\n",
      "Requirement already satisfied: certifi>=2017.4.17 in /opt/conda/lib/python3.10/site-packages (from requests[socks]->gdown) (2023.5.7)\n",
      "Requirement already satisfied: PySocks!=1.5.7,>=1.5.6 in /opt/conda/lib/python3.10/site-packages (from requests[socks]->gdown) (1.7.1)\n",
      "Installing collected packages: gdown\n",
      "Successfully installed gdown-4.7.1\n",
      "\u001b[31mERROR: Could not find a version that satisfies the requirement zipfile (from versions: none)\u001b[0m\u001b[31m\n",
      "\u001b[0m\u001b[31mERROR: No matching distribution found for zipfile\u001b[0m\u001b[31m\n",
      "\u001b[0m"
     ]
    }
   ],
   "source": [
    "!pip install gdown\n",
    "!pip install zipfile"
   ]
  },
  {
   "cell_type": "code",
   "execution_count": 16,
   "id": "576a6485-7c99-44e2-9117-e3fcfd815c98",
   "metadata": {},
   "outputs": [
    {
     "data": {
      "text/plain": [
       "['/home/jupyter/data/image/origin.7z.001',\n",
       " '/home/jupyter/data/image/origin.7z.002',\n",
       " '/home/jupyter/data/image/origin.7z.003',\n",
       " '/home/jupyter/data/image/origin.7z.004',\n",
       " '/home/jupyter/data/image/origin.7z.005',\n",
       " '/home/jupyter/data/image/origin.7z.006',\n",
       " '/home/jupyter/data/image/origin.7z.007',\n",
       " '/home/jupyter/data/image/origin.7z.008',\n",
       " '/home/jupyter/data/label/label.lst',\n",
       " '/home/jupyter/data/label/readme.txt']"
      ]
     },
     "execution_count": 16,
     "metadata": {},
     "output_type": "execute_result"
    }
   ],
   "source": [
    "import gdown\n",
    "\n",
    "# a file\n",
    "url = \"https://drive.google.com/drive/folders/19Eb_WiTsWelYv7Faff0L5Lmo1zv0vzwR?usp=drive_link\"\n",
    "gdown.download_folder(url, quiet=True, use_cookies=False)"
   ]
  },
  {
   "cell_type": "code",
   "execution_count": 1,
   "id": "2ea073f0-1665-4803-9166-68179889c208",
   "metadata": {},
   "outputs": [
    {
     "name": "stdout",
     "output_type": "stream",
     "text": [
      "Reading package lists... Done\n",
      "Building dependency tree... Done\n",
      "Reading state information... Done\n",
      "The following additional packages will be installed:\n",
      "  p7zip\n",
      "Suggested packages:\n",
      "  p7zip-rar\n",
      "The following NEW packages will be installed:\n",
      "  p7zip p7zip-full\n",
      "0 upgraded, 2 newly installed, 0 to remove and 3 not upgraded.\n",
      "Need to get 1564 kB of archives.\n",
      "After this operation, 5787 kB of additional disk space will be used.\n",
      "Get:1 https://deb.debian.org/debian bullseye/main amd64 p7zip amd64 16.02+dfsg-8 [381 kB]\n",
      "Get:2 https://deb.debian.org/debian bullseye/main amd64 p7zip-full amd64 16.02+dfsg-8 [1183 kB]\n",
      "Fetched 1564 kB in 0s (14.8 MB/s)\u001b[0m\u001b[33m\n",
      "\n",
      "\u001b7\u001b[0;23r\u001b8\u001b[1ASelecting previously unselected package p7zip.\n",
      "(Reading database ... 129414 files and directories currently installed.)\n",
      "Preparing to unpack .../p7zip_16.02+dfsg-8_amd64.deb ...\n",
      "\u001b7\u001b[24;0f\u001b[42m\u001b[30mProgress: [  0%]\u001b[49m\u001b[39m [..........................................................] \u001b8\u001b7\u001b[24;0f\u001b[42m\u001b[30mProgress: [ 11%]\u001b[49m\u001b[39m [######....................................................] \u001b8Unpacking p7zip (16.02+dfsg-8) ...\n",
      "\u001b7\u001b[24;0f\u001b[42m\u001b[30mProgress: [ 22%]\u001b[49m\u001b[39m [############..............................................] \u001b8Selecting previously unselected package p7zip-full.\n",
      "Preparing to unpack .../p7zip-full_16.02+dfsg-8_amd64.deb ...\n",
      "\u001b7\u001b[24;0f\u001b[42m\u001b[30mProgress: [ 33%]\u001b[49m\u001b[39m [###################.......................................] \u001b8Unpacking p7zip-full (16.02+dfsg-8) ...\n",
      "\u001b7\u001b[24;0f\u001b[42m\u001b[30mProgress: [ 44%]\u001b[49m\u001b[39m [#########################.................................] \u001b8Setting up p7zip (16.02+dfsg-8) ...\n",
      "\u001b7\u001b[24;0f\u001b[42m\u001b[30mProgress: [ 56%]\u001b[49m\u001b[39m [################################..........................] \u001b8\u001b7\u001b[24;0f\u001b[42m\u001b[30mProgress: [ 67%]\u001b[49m\u001b[39m [######################################....................] \u001b8Setting up p7zip-full (16.02+dfsg-8) ...\n",
      "\u001b7\u001b[24;0f\u001b[42m\u001b[30mProgress: [ 78%]\u001b[49m\u001b[39m [#############################################.............] \u001b8\u001b7\u001b[24;0f\u001b[42m\u001b[30mProgress: [ 89%]\u001b[49m\u001b[39m [###################################################.......] \u001b8Processing triggers for man-db (2.9.4-2) ...\n",
      "\n",
      "\u001b7\u001b[0;24r\u001b8\u001b[1A\u001b[J"
     ]
    }
   ],
   "source": [
    "!sudo apt install -y p7zip-full"
   ]
  },
  {
   "cell_type": "code",
   "execution_count": null,
   "id": "0c3b0d54-3752-4555-8fcd-8f1921b7af14",
   "metadata": {},
   "outputs": [
    {
     "name": "stdout",
     "output_type": "stream",
     "text": [
      "\n",
      "7-Zip (a) [64] 16.02 : Copyright (c) 1999-2016 Igor Pavlov : 2016-05-21\n",
      "p7zip Version 16.02 (locale=C.UTF-8,Utf16=on,HugeFiles=on,64 bits,4 CPUs Intel(R) Xeon(R) CPU @ 2.20GHz (406F0),ASM,AES-NI)\n",
      "\n",
      "Scanning the drive for archives:\n",
      "8 files, 8113576419 bytes (7738 MiB)\n",
      "\n",
      "Extracting archive: data/image/origin.7z.001\n"
     ]
    }
   ],
   "source": [
    "import subprocess\n",
    "\n",
    "# Replace 'path_to_your_archive.7z' with the actual path to your 7z file\n",
    "archive_path = \"data/image/origin.7z.*\"\n",
    "destination_path = \"my_drive/processed_data/origin\"  # Destination path for extraction\n",
    "\n",
    "# Run the 7za command to extract the archive\n",
    "process = subprocess.Popen(['7za', '-y', 'e', archive_path, f'-o{destination_path}'], stderr=subprocess.PIPE)\n",
    "\n",
    "# Continuously read and print the progress updates\n",
    "while True:\n",
    "    line = process.stderr.readline()\n",
    "    if not line:\n",
    "        break\n",
    "    print(line.decode().strip())\n",
    "\n",
    "# Wait for the process to finish\n",
    "process.wait()\n",
    "\n",
    "# Check the return code to see if the extraction was successful\n",
    "if process.returncode == 0:\n",
    "    print(\"Extraction successful.\")\n",
    "else:\n",
    "    print(f\"Extraction failed with return code {process.returncode}.\")\n"
   ]
  },
  {
   "cell_type": "code",
   "execution_count": null,
   "id": "87670be2-4a0a-4ef7-8e31-d36307ced676",
   "metadata": {},
   "outputs": [],
   "source": [
    "import numpy as np\n",
    "import os\n",
    "import glob\n",
    "import pandas as pd\n",
    "import PIL\n",
    "import PIL.Image\n",
    "import tensorflow as tf\n",
    "from tensorflow import keras\n",
    "from tensorflow.keras import layers\n",
    "import tensorflow_datasets as tfds"
   ]
  },
  {
   "cell_type": "code",
   "execution_count": null,
   "id": "8768686f-fd6e-44a8-b511-b7d530266fa7",
   "metadata": {},
   "outputs": [],
   "source": [
    "image_dir = \"my_drive/processed_data/origin/\""
   ]
  },
  {
   "cell_type": "code",
   "execution_count": null,
   "id": "34546077-fa47-4fd4-a6c5-1eac860b2d40",
   "metadata": {},
   "outputs": [],
   "source": [
    "images = list(glob.glob(os.path.join(image_dir, '*.jpg')))\n",
    "PIL.Image.open(str(images[5]))"
   ]
  },
  {
   "cell_type": "code",
   "execution_count": null,
   "id": "72b2981b-1d1d-44dd-831c-38c74ab4b249",
   "metadata": {},
   "outputs": [],
   "source": [
    "image_count = len(list(glob.glob(os.path.join(image_dir, '*.jpg'))))\n",
    "print(\"Total images: \", image_count)"
   ]
  },
  {
   "cell_type": "code",
   "execution_count": null,
   "id": "f87f9ef8-1058-448c-a72b-7b0621fee9d1",
   "metadata": {},
   "outputs": [],
   "source": [
    "labels_file = \"data/label/label.lst\"\n",
    "df = pd.read_csv(labels_file, header=None, delimiter = \" \", names=[\"image_name\", \"face_id_in_image\", \"face_box_top\", \"face_box_right\", \"face_box_bottom\", \"face_box_cofidence\", \"expression_label\"])\n"
   ]
  },
  {
   "cell_type": "code",
   "execution_count": null,
   "id": "8e289e1e-dff2-4d44-ba12-13d14add62d0",
   "metadata": {},
   "outputs": [],
   "source": [
    "df.head()"
   ]
  },
  {
   "cell_type": "code",
   "execution_count": null,
   "id": "f1666c9e-8dab-4ef2-af44-c03c8ccc6c06",
   "metadata": {},
   "outputs": [],
   "source": [
    "labels = [\"angry\", \"disgust\", \"fear\", \"happy\", \"sad\", \"surprize\", \"neutral\"]"
   ]
  },
  {
   "cell_type": "code",
   "execution_count": null,
   "id": "e135f29c-41c4-4500-b0b2-3884f4899d58",
   "metadata": {},
   "outputs": [],
   "source": [
    "file_paths = df['image_name']\n",
    "labels = df['expression_label']\n",
    "list_ds = tf.data.Dataset.list_files(os.path.join(\"my_drive/processed_data/\", '*/*'), shuffle=False)"
   ]
  },
  {
   "cell_type": "code",
   "execution_count": null,
   "id": "71afa355-f97e-423a-98b5-3f9720b33d9a",
   "metadata": {},
   "outputs": [],
   "source": [
    "batch_size = 32\n",
    "img_height = 180\n",
    "img_width = 180"
   ]
  },
  {
   "cell_type": "code",
   "execution_count": null,
   "id": "8d136367-c1f6-4ad7-af8f-c8d425049fee",
   "metadata": {},
   "outputs": [],
   "source": [
    "train_ds = tf.keras.utils.image_dataset_from_directory(\n",
    "  image_dir,\n",
    "  validation_split=0.2,\n",
    "  subset=\"training\",\n",
    "  seed=123,\n",
    "  image_size=(img_height, img_width),\n",
    "  batch_size=batch_size)"
   ]
  },
  {
   "cell_type": "code",
   "execution_count": null,
   "id": "5422fc3b-f64c-4634-93db-5c4028faf4fd",
   "metadata": {},
   "outputs": [],
   "source": [
    "val_ds = tf.keras.utils.image_dataset_from_directory(\n",
    "  image_dir,\n",
    "  validation_split=0.2,\n",
    "  subset=\"validation\",\n",
    "  seed=123,\n",
    "  image_size=(img_height, img_width),\n",
    "  batch_size=batch_size)"
   ]
  },
  {
   "cell_type": "code",
   "execution_count": null,
   "id": "2fae22ea-a7ac-41b5-ac8e-d9a2a4733c87",
   "metadata": {},
   "outputs": [],
   "source": [
    "class_names = train_ds.class_names\n",
    "print(class_names)"
   ]
  },
  {
   "cell_type": "code",
   "execution_count": null,
   "id": "64f8facc-74b2-4c1d-a2ff-d3011b2bb12c",
   "metadata": {},
   "outputs": [],
   "source": [
    "import matplotlib.pyplot as plt\n",
    "\n",
    "plt.figure(figsize=(10, 10))\n",
    "for images, labels in train_ds.take(1):\n",
    "  for i in range(9):\n",
    "    ax = plt.subplot(3, 3, i + 1)\n",
    "    plt.imshow(images[i].numpy().astype(\"uint8\"))\n",
    "    plt.title(class_names[labels[i]])\n",
    "    plt.axis(\"off\")"
   ]
  },
  {
   "cell_type": "code",
   "execution_count": null,
   "id": "88b60b97-3e8e-45cd-bb99-de5b77d28b27",
   "metadata": {},
   "outputs": [],
   "source": [
    "for image_batch, labels_batch in train_ds:\n",
    "  print(image_batch.shape)\n",
    "  print(labels_batch.shape)\n",
    "  break"
   ]
  },
  {
   "cell_type": "code",
   "execution_count": null,
   "id": "72010d15-fc09-42fc-92e1-7929be04f21f",
   "metadata": {},
   "outputs": [],
   "source": []
  }
 ],
 "metadata": {
  "environment": {
   "kernel": "conda-root-py",
   "name": "workbench-notebooks.m109",
   "type": "gcloud",
   "uri": "gcr.io/deeplearning-platform-release/workbench-notebooks:m109"
  },
  "kernelspec": {
   "display_name": "Python 3",
   "language": "python",
   "name": "conda-root-py"
  },
  "language_info": {
   "codemirror_mode": {
    "name": "ipython",
    "version": 3
   },
   "file_extension": ".py",
   "mimetype": "text/x-python",
   "name": "python",
   "nbconvert_exporter": "python",
   "pygments_lexer": "ipython3",
   "version": "3.10.12"
  }
 },
 "nbformat": 4,
 "nbformat_minor": 5
}

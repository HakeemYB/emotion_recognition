{
 "cells": [
  {
   "cell_type": "code",
   "execution_count": 2,
   "id": "26d38ccb-62c8-4cba-a0c9-30451a2e5a83",
   "metadata": {},
   "outputs": [],
   "source": [
    "import numpy as np\n",
    "import os\n",
    "import glob\n",
    "import pandas as pd\n",
    "import PIL\n",
    "import PIL.Image\n",
    "import tensorflow as tf\n",
    "from tensorflow import keras\n",
    "from tensorflow.keras import layers\n",
    "import tensorflow_datasets as tfds\n",
    "import matplotlib.pyplot as plt"
   ]
  },
  {
   "cell_type": "code",
   "execution_count": 3,
   "id": "263d4dac-a99d-43ff-8560-df95aa5d53b9",
   "metadata": {},
   "outputs": [],
   "source": [
    "# Set the seed for reproducibility\n",
    "tf.random.set_seed(42)"
   ]
  },
  {
   "cell_type": "code",
   "execution_count": 4,
   "id": "a1970803-7876-40b9-bdd7-a4cce27fc855",
   "metadata": {},
   "outputs": [],
   "source": [
    "batch_size = 32\n",
    "img_height = 192\n",
    "img_width = 192"
   ]
  },
  {
   "cell_type": "markdown",
   "id": "025c33d5-94b9-47b6-b0ce-9ab61c13b929",
   "metadata": {},
   "source": [
    "We have replaced the custom model architecture with a pre-trained model, such as MobileNetV2, which is a popular choice for transfer learning due to its efficiency and effectiveness. "
   ]
  },
  {
   "cell_type": "code",
   "execution_count": 5,
   "id": "1a445adf-f922-4ba3-93ee-34fea43d9034",
   "metadata": {},
   "outputs": [],
   "source": [
    "# Load the MobileNetV2 pre-trained model for transfer learning\n",
    "base_model = tf.keras.applications.MobileNetV2(input_shape=(img_height, img_width, 3),\n",
    "                                               include_top=False,\n",
    "                                               weights='imagenet')\n",
    "base_model.trainable = False  # Freeze the pre-trained weights"
   ]
  },
  {
   "cell_type": "code",
   "execution_count": 6,
   "id": "ad2c4aa4-4899-41b3-8b47-1ca9a46a2a8b",
   "metadata": {},
   "outputs": [],
   "source": [
    "# Add a custom head to the model for facial expression classification\n",
    "num_classes = 7\n",
    "model = tf.keras.Sequential([\n",
    "    base_model,\n",
    "    tf.keras.layers.GlobalAveragePooling2D(),\n",
    "    tf.keras.layers.Dense(128, activation='relu'),\n",
    "    tf.keras.layers.Dropout(0.5),\n",
    "    tf.keras.layers.Dense(num_classes)\n",
    "])"
   ]
  },
  {
   "cell_type": "code",
   "execution_count": 7,
   "id": "eb91d81d-d260-42ee-851c-37403e36de98",
   "metadata": {},
   "outputs": [],
   "source": [
    "model.compile(optimizer='adam',\n",
    "              loss=tf.keras.losses.SparseCategoricalCrossentropy(from_logits=True),\n",
    "              metrics=['accuracy'])"
   ]
  },
  {
   "cell_type": "code",
   "execution_count": 8,
   "id": "08b81e04-e516-422e-ae05-499880866d93",
   "metadata": {},
   "outputs": [
    {
     "name": "stdout",
     "output_type": "stream",
     "text": [
      "Model: \"sequential\"\n",
      "_________________________________________________________________\n",
      " Layer (type)                Output Shape              Param #   \n",
      "=================================================================\n",
      " mobilenetv2_1.00_192 (Func  (None, 6, 6, 1280)        2257984   \n",
      " tional)                                                         \n",
      "                                                                 \n",
      " global_average_pooling2d (  (None, 1280)              0         \n",
      " GlobalAveragePooling2D)                                         \n",
      "                                                                 \n",
      " dense (Dense)               (None, 128)               163968    \n",
      "                                                                 \n",
      " dropout (Dropout)           (None, 128)               0         \n",
      "                                                                 \n",
      " dense_1 (Dense)             (None, 7)                 903       \n",
      "                                                                 \n",
      "=================================================================\n",
      "Total params: 2422855 (9.24 MB)\n",
      "Trainable params: 164871 (644.03 KB)\n",
      "Non-trainable params: 2257984 (8.61 MB)\n",
      "_________________________________________________________________\n"
     ]
    }
   ],
   "source": [
    "# Print the model summary\n",
    "model.summary()"
   ]
  },
  {
   "cell_type": "code",
   "execution_count": 9,
   "id": "27b464c8-f99c-463b-b70e-fc03fdcb11e5",
   "metadata": {},
   "outputs": [],
   "source": [
    "final_data_path = \"my_drive/classes/\""
   ]
  },
  {
   "cell_type": "code",
   "execution_count": 10,
   "id": "a5f4937a-f042-47c7-b050-b6faded9e6f1",
   "metadata": {},
   "outputs": [
    {
     "name": "stdout",
     "output_type": "stream",
     "text": [
      "Found 74532 files belonging to 7 classes.\n",
      "Using 59626 files for training.\n",
      "['angry', 'disgust', 'fear', 'happy', 'neutral', 'sad', 'surprise']\n"
     ]
    }
   ],
   "source": [
    "train_ds = tf.keras.utils.image_dataset_from_directory(\n",
    "  final_data_path,\n",
    "  validation_split=0.2,\n",
    "  subset=\"training\",\n",
    "  seed=123,\n",
    "  image_size=(img_height, img_width),\n",
    "  batch_size=batch_size)\n",
    "class_names = train_ds.class_names\n",
    "print(class_names)"
   ]
  },
  {
   "cell_type": "code",
   "execution_count": 11,
   "id": "2f3a8d3c-baf7-4093-96fb-a9148ec1add2",
   "metadata": {},
   "outputs": [
    {
     "name": "stdout",
     "output_type": "stream",
     "text": [
      "Found 74532 files belonging to 7 classes.\n",
      "Using 14906 files for validation.\n"
     ]
    }
   ],
   "source": [
    "val_ds = tf.keras.utils.image_dataset_from_directory(\n",
    "  final_data_path,\n",
    "  validation_split=0.2,\n",
    "  subset=\"validation\",\n",
    "  seed=123,\n",
    "  image_size=(img_height, img_width),\n",
    "  batch_size=batch_size)"
   ]
  },
  {
   "cell_type": "code",
   "execution_count": 12,
   "id": "8486b7fd-e904-4701-bb72-18042943196c",
   "metadata": {},
   "outputs": [],
   "source": [
    "# Normalize the data\n",
    "normalization_layer = tf.keras.layers.Rescaling(1/255)\n",
    "train_ds_normalized = train_ds.map(lambda x, y: (normalization_layer(x), y))\n",
    "val_ds_normalized = val_ds.map(lambda x, y: (normalization_layer(x), y))"
   ]
  },
  {
   "cell_type": "code",
   "execution_count": 13,
   "id": "20d117c6-cd75-412c-a364-c5f2de55eab3",
   "metadata": {},
   "outputs": [],
   "source": [
    "# Cache and prefetch the datasets\n",
    "AUTOTUNE = tf.data.AUTOTUNE\n",
    "train_ds_normalized = train_ds_normalized.cache().prefetch(buffer_size=AUTOTUNE)\n",
    "val_ds_normalized = val_ds_normalized.cache().prefetch(buffer_size=AUTOTUNE)\n"
   ]
  },
  {
   "cell_type": "code",
   "execution_count": null,
   "id": "4bed1c61-60f0-47e3-b4dc-dd2695ea38b4",
   "metadata": {},
   "outputs": [],
   "source": [
    "# Train the model and plot the training and validation curves\n",
    "history = model.fit(train_ds_normalized,\n",
    "                    validation_data=val_ds_normalized,\n",
    "                    epochs=5)  # You can increase the number of epochs as needed\n"
   ]
  },
  {
   "cell_type": "code",
   "execution_count": null,
   "id": "c7d2e494-d830-4445-a2ae-4da7c60e1ca6",
   "metadata": {},
   "outputs": [],
   "source": [
    "# Plot the training and validation curves\n",
    "plt.figure(figsize=(10, 6))\n",
    "plt.plot(history.history['accuracy'], label='Training Accuracy')\n",
    "plt.plot(history.history['val_accuracy'], label='Validation Accuracy')\n",
    "plt.xlabel('Epoch')\n",
    "plt.ylabel('Accuracy')\n",
    "plt.legend(loc='lower right')\n",
    "plt.title('Training and Validation Accuracy')\n",
    "plt.show()"
   ]
  },
  {
   "cell_type": "code",
   "execution_count": null,
   "id": "19f0afe6-2b01-442e-b3ea-19776787f3c4",
   "metadata": {},
   "outputs": [],
   "source": [
    "plt.figure(figsize=(10, 6))\n",
    "plt.plot(history.history['loss'], label='Training Loss')\n",
    "plt.plot(history.history['val_loss'], label='Validation Loss')\n",
    "plt.xlabel('Epoch')\n",
    "plt.ylabel('Loss')\n",
    "plt.legend(loc='upper right')\n",
    "plt.title('Training and Validation Loss')\n",
    "plt.show()"
   ]
  }
 ],
 "metadata": {
  "environment": {
   "kernel": "conda-root-py",
   "name": "workbench-notebooks.m109",
   "type": "gcloud",
   "uri": "gcr.io/deeplearning-platform-release/workbench-notebooks:m109"
  },
  "kernelspec": {
   "display_name": "Python 3",
   "language": "python",
   "name": "conda-root-py"
  },
  "language_info": {
   "codemirror_mode": {
    "name": "ipython",
    "version": 3
   },
   "file_extension": ".py",
   "mimetype": "text/x-python",
   "name": "python",
   "nbconvert_exporter": "python",
   "pygments_lexer": "ipython3",
   "version": "3.10.12"
  }
 },
 "nbformat": 4,
 "nbformat_minor": 5
}
